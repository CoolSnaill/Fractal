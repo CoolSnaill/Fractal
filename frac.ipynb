{
 "cells": [
  {
   "cell_type": "code",
   "execution_count": null,
   "metadata": {},
   "outputs": [],
   "source": [
    "import numpy as np\n",
    "from matplotlib import pyplot as plt\n",
    "\n",
    "def func(z:complex, c0:complex):\n",
    "    return np.power(z,2) + c0\n",
    "\n",
    "def create_grid(x0, y0, L, N): \n",
    "    x = np.linspace(x0 - L*0.5, x0 + L*0.5, N)\n",
    "    y = np.linspace(y0 - L*0.5, y0 + L*0.5, N)\n",
    "    cx, cy = np.meshgrid(x, y)\n",
    "    c = cx + 1j*cy\n",
    "    return c\n",
    "\n",
    "def fractal(N, c, c0,Nstop, threashold = 2.):\n",
    "    res = np.ones((N,N), dtype = np.float64)\n",
    "    for i in range(N):\n",
    "        for j in range(N):\n",
    "            c_ij = c[i,j]\n",
    "            for k in range(Nstop):\n",
    "                c_ij  = func(c_ij, c0)\n",
    "                if abs(c_ij) > threashold:\n",
    "                    res[i,j] = float(k) / float(Nstop)\n",
    "                    break\n",
    "    return res\n",
    "\n",
    "def show_fractal(x0, y0, L, res):\n",
    "    plt.imshow(res,extent = [x0-0.5*L, x0+0.5*L,y0-0.5*L, y0+0.5*L ])\n",
    "    plt.colorbar()\n",
    "    plt.show()\n",
    "\n",
    "def main():\n",
    "    L = 3\n",
    "    x0 = 0\n",
    "    y0 = 0\n",
    "    N = 500\n",
    "    Nstop = 50\n",
    "\n",
    "    grid = create_grid(x0,y0,L,N)\n",
    "    c0 = complex(0,1)\n",
    "    res = fractal(N,grid ,c0, Nstop, 2)\n",
    "    show_fractal(x0,y0,L,res)\n",
    "\n",
    "main()"
   ]
  }
 ],
 "metadata": {
  "language_info": {
   "name": "python"
  }
 },
 "nbformat": 4,
 "nbformat_minor": 2
}
